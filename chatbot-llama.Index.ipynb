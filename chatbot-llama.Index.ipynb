{
 "cells": [
  {
   "cell_type": "code",
   "execution_count": 1,
   "id": "4e7a6b9a",
   "metadata": {},
   "outputs": [],
   "source": [
    "# !pip install llama-index\n",
    "# !pip install openai"
   ]
  },
  {
   "cell_type": "code",
   "execution_count": 5,
   "id": "21322d39",
   "metadata": {},
   "outputs": [],
   "source": [
    "# Import necessary packages\n",
    "from llama_index import GPTSimpleVectorIndex, Document, SimpleDirectoryReader\n",
    "from llama_index.node_parser import SimpleNodeParser\n",
    "import os\n",
    "\n",
    "os.environ['OPENAI_API_KEY'] = ''"
   ]
  },
  {
   "cell_type": "code",
   "execution_count": 10,
   "id": "37faaa01",
   "metadata": {},
   "outputs": [],
   "source": [
    "# Loading from a directory\n",
    "documents = SimpleDirectoryReader('./documents').load_data()\n",
    "# Loading from strings, assuming you saved your data to strings text1, text2, ...\n",
    "# text_list = [text1, text2, text3, text4, text5, text6, text7, text8, text9, text10]\n",
    "# documents = [Document(t) for t in text_list]"
   ]
  },
  {
   "cell_type": "code",
   "execution_count": 6,
   "id": "bbcb23ac",
   "metadata": {},
   "outputs": [],
   "source": [
    "parser = SimpleNodeParser()\n",
    "nodes = parser.get_nodes_from_documents(documents)"
   ]
  },
  {
   "cell_type": "code",
   "execution_count": 7,
   "id": "33f05e90",
   "metadata": {},
   "outputs": [
    {
     "name": "stderr",
     "output_type": "stream",
     "text": [
      "INFO:llama_index.token_counter.token_counter:> [build_index_from_nodes] Total LLM token usage: 0 tokens\n",
      "INFO:llama_index.token_counter.token_counter:> [build_index_from_nodes] Total embedding token usage: 49199 tokens\n"
     ]
    }
   ],
   "source": [
    "# Construct a simple vector index\n",
    "index = GPTSimpleVectorIndex(nodes)"
   ]
  },
  {
   "cell_type": "code",
   "execution_count": 8,
   "id": "4d08ec30",
   "metadata": {},
   "outputs": [],
   "source": [
    "# Save your index to a index.json file\n",
    "index.save_to_disk('index.json')\n",
    "# Load the index from your saved index.json file\n",
    "index = GPTSimpleVectorIndex.load_from_disk('index.json')"
   ]
  },
  {
   "cell_type": "code",
   "execution_count": 9,
   "id": "130e69f6",
   "metadata": {},
   "outputs": [
    {
     "name": "stderr",
     "output_type": "stream",
     "text": [
      "INFO:llama_index.token_counter.token_counter:> [query] Total LLM token usage: 4566 tokens\n",
      "INFO:llama_index.token_counter.token_counter:> [query] Total embedding token usage: 7 tokens\n"
     ]
    },
    {
     "name": "stdout",
     "output_type": "stream",
     "text": [
      "\n",
      "\n",
      "Majo Vega es la autora de este libro. Ella es una investigadora que estudia la sangre desde un punto de vista científico, espiritual y cultural. Ella ha estudiado la historia de la sangre y cómo se ha usado a lo largo de la historia para fines mágicos, como para evitar terremotos, calmar a los dioses o como muestra de devoción hacia ellos, fertilizar la tierra e incluso se verta para que el sol no se olvidara de salir cada mañana. También ha estudiado cómo se usa la sangre en la actualidad, como los masai africanos que beben sangre de len para adquirir su salvaje valenta, o los hombres que toman sangre de toro porque creen que así se incrementará su fuerza. Ella también es una canalizadora que ha experimentado con su propia enfermedad, la prpura\n"
     ]
    }
   ],
   "source": [
    "# Querying the index\n",
    "response = index.query(\"Quien es Majo Vega?\")\n",
    "print(response)"
   ]
  },
  {
   "cell_type": "code",
   "execution_count": 12,
   "id": "f5113149",
   "metadata": {},
   "outputs": [
    {
     "name": "stderr",
     "output_type": "stream",
     "text": [
      "INFO:llama_index.token_counter.token_counter:> [query] Total LLM token usage: 4319 tokens\n",
      "INFO:llama_index.token_counter.token_counter:> [query] Total embedding token usage: 15 tokens\n"
     ]
    },
    {
     "name": "stdout",
     "output_type": "stream",
     "text": [
      "\n",
      "Majo Vega tenía PTT (Trombocitopenia Trombopoytica) cuando era niña, lo que la llevó a luchar constantemente con la falta de amor propio y la crítica constante de amigos y familiares, incluyendo a su padre.\n"
     ]
    }
   ],
   "source": [
    "# Querying the index\n",
    "response = index.query(\"Que enfermedad tenia Majo Vega cuando niña?\")\n",
    "print(response)"
   ]
  },
  {
   "cell_type": "code",
   "execution_count": 13,
   "id": "3f0723eb",
   "metadata": {},
   "outputs": [
    {
     "name": "stderr",
     "output_type": "stream",
     "text": [
      "INFO:llama_index.token_counter.token_counter:> [query] Total LLM token usage: 4678 tokens\n",
      "INFO:llama_index.token_counter.token_counter:> [query] Total embedding token usage: 11 tokens\n"
     ]
    },
    {
     "name": "stdout",
     "output_type": "stream",
     "text": [
      "\n",
      "\n",
      "La sangre viva es una muestra de sangre tomada de una persona para su análisis. Esta muestra se coloca bajo un microscopio de campo oscuro para observar las células sanguíneas. Esta observación permite detectar desequilibrios biológicos, físicos y psicológicos, así como también información sobre la configuración del alma. La anisocitosis, una desigualdad en el tamaño de los glóbulos rojos, puede ser un indicador de deficiencias de vitamina B12 y ácido fólico, anemia megaloblástica, perniciosa o aplásica, alergia a la comida, y problemas para crecer económica, laboral y mentalmente, así como para mantener relaciones personales. La sangre viva también puede ser utilizada para realizar un aná\n"
     ]
    }
   ],
   "source": [
    "# Querying the index\n",
    "response = index.query(\"Explicame que es la sangre viva?\")\n",
    "print(response)"
   ]
  },
  {
   "cell_type": "code",
   "execution_count": 14,
   "id": "617487f6",
   "metadata": {},
   "outputs": [
    {
     "name": "stderr",
     "output_type": "stream",
     "text": [
      "INFO:llama_index.token_counter.token_counter:> [query] Total LLM token usage: 4698 tokens\n",
      "INFO:llama_index.token_counter.token_counter:> [query] Total embedding token usage: 16 tokens\n"
     ]
    },
    {
     "name": "stdout",
     "output_type": "stream",
     "text": [
      "\n",
      "\n",
      "La peor epoca de la vida de Majo Vega fue cuando tenía 17 años. En ese momento, fue castigada en la clase de arte porque la maestra decía que no hacía nada, y terminó en la dirección. La directora le dijo a su madre que era esquizofrénica sin ningún estudio ni proceso de diagnóstico. Esto le causó mucha tristeza y coraje. Además, su situación económica se dificultó y no pudo entrar a la universidad. Además, Teresa luchaba constantemente con la falta de amor propio, recibiendo críticas constantes de amigos y familiares, y hasta de su padre, un político afamado. Esta situación le causó mucha tristeza y desesperanza.\n"
     ]
    }
   ],
   "source": [
    "# Querying the index\n",
    "response = index.query(\"Cual la peor epoca de la vida de majo vega\")\n",
    "print(response)"
   ]
  },
  {
   "cell_type": "code",
   "execution_count": null,
   "id": "b5f6e8c7",
   "metadata": {},
   "outputs": [],
   "source": []
  },
  {
   "cell_type": "code",
   "execution_count": null,
   "id": "d2da7bf2",
   "metadata": {},
   "outputs": [],
   "source": []
  },
  {
   "cell_type": "code",
   "execution_count": null,
   "id": "565e146a",
   "metadata": {},
   "outputs": [],
   "source": []
  },
  {
   "cell_type": "code",
   "execution_count": null,
   "id": "65250cc4",
   "metadata": {},
   "outputs": [],
   "source": []
  },
  {
   "cell_type": "code",
   "execution_count": null,
   "id": "d3e71148",
   "metadata": {},
   "outputs": [],
   "source": []
  },
  {
   "cell_type": "code",
   "execution_count": null,
   "id": "ea76c484",
   "metadata": {},
   "outputs": [],
   "source": []
  },
  {
   "cell_type": "code",
   "execution_count": null,
   "id": "0e4b6c93",
   "metadata": {},
   "outputs": [],
   "source": []
  },
  {
   "cell_type": "code",
   "execution_count": null,
   "id": "14959403",
   "metadata": {},
   "outputs": [],
   "source": []
  },
  {
   "cell_type": "code",
   "execution_count": null,
   "id": "067ef82d",
   "metadata": {},
   "outputs": [],
   "source": []
  },
  {
   "cell_type": "code",
   "execution_count": null,
   "id": "f74dd9ce",
   "metadata": {},
   "outputs": [],
   "source": []
  },
  {
   "cell_type": "code",
   "execution_count": null,
   "id": "6943ddb9",
   "metadata": {},
   "outputs": [],
   "source": []
  },
  {
   "cell_type": "code",
   "execution_count": null,
   "id": "56f43c7e",
   "metadata": {},
   "outputs": [],
   "source": []
  },
  {
   "cell_type": "code",
   "execution_count": null,
   "id": "ecf0176a",
   "metadata": {},
   "outputs": [],
   "source": []
  },
  {
   "cell_type": "code",
   "execution_count": null,
   "id": "dc8255c2",
   "metadata": {},
   "outputs": [],
   "source": []
  },
  {
   "cell_type": "code",
   "execution_count": null,
   "id": "34cf8715",
   "metadata": {},
   "outputs": [],
   "source": []
  },
  {
   "cell_type": "code",
   "execution_count": null,
   "id": "67e66de9",
   "metadata": {},
   "outputs": [],
   "source": []
  },
  {
   "cell_type": "code",
   "execution_count": null,
   "id": "9cf4ecad",
   "metadata": {},
   "outputs": [],
   "source": []
  },
  {
   "cell_type": "code",
   "execution_count": null,
   "id": "802678d2",
   "metadata": {},
   "outputs": [],
   "source": []
  },
  {
   "cell_type": "code",
   "execution_count": null,
   "id": "f2d2a23f",
   "metadata": {},
   "outputs": [],
   "source": []
  },
  {
   "cell_type": "code",
   "execution_count": null,
   "id": "2d0a1ca1",
   "metadata": {},
   "outputs": [],
   "source": []
  },
  {
   "cell_type": "code",
   "execution_count": null,
   "id": "9720fe3f",
   "metadata": {},
   "outputs": [],
   "source": []
  },
  {
   "cell_type": "code",
   "execution_count": null,
   "id": "1acbf338",
   "metadata": {},
   "outputs": [],
   "source": []
  },
  {
   "cell_type": "code",
   "execution_count": null,
   "id": "00158cae",
   "metadata": {},
   "outputs": [],
   "source": []
  }
 ],
 "metadata": {
  "kernelspec": {
   "display_name": "Python 3.9 (ChatGPT)",
   "language": "python",
   "name": "pytorch"
  },
  "language_info": {
   "codemirror_mode": {
    "name": "ipython",
    "version": 3
   },
   "file_extension": ".py",
   "mimetype": "text/x-python",
   "name": "python",
   "nbconvert_exporter": "python",
   "pygments_lexer": "ipython3",
   "version": "3.9.16"
  }
 },
 "nbformat": 4,
 "nbformat_minor": 5
}
